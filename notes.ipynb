{
 "cells": [
  {
   "cell_type": "markdown",
   "source": [
    "[link to course](https://learning.edx.org/course/course-v1:LinuxFoundationX+LFS158x+1T2022/home)\n",
    "# Kubernets\n",
    "\n",
    "Monolith: is a hardware and money intensive piece of software that is hard to maintain and rough to fractionalise.(A BOULDER)\n",
    "\n",
    "Microservice: can be deployed individually. Event-driven Architecture -> complex applications communicating through APIs over a network. Great scalability and maintenance compensated by higher complexity.(PEBBLES)\n",
    "\n",
    "Refactoring(monolith -> microservices):\n",
    "- incremental: new features are developed as microservices, and older features are slowly being worked on in the background.\n",
    "- big bang: stops all new development and starts on refactoring the whole architecture at once\n",
    "Not all monoliths are going to be refactor friendly alot of them will be completely revamped. (apps titghtly packaged with datastore, apps written in archaic languages etc)\n",
    "\n",
    "Containers deal with encapsulating differing runtime environments and saving the headache of library managment and OS bloat for running instances on different virtual machines\n",
    "\n",
    "### Containers\n",
    "\n",
    "Images are used as a source for containers.\n",
    "Runtimes for containers are docker, runC, containerd or cri-o and are able to run containers on a single host but ideally we want to have a distributed system with a single controller/management unit(container orchestrator).\n",
    "\n",
    "#### What is a contrainer?\n",
    "\n",
    "Containers are lightweight virtual environments that allow running multiple applications with their own environments on a single machine(or multiple machines) without the applications clashing with each other. TLDR: containers provide encapsulation.\n",
    "\n",
    "Microservices are lightweight applications written in modern programming languages. These provide their dependencies prepackaged.\n",
    "\n",
    "Containers run container images which include the environment of the desired microservice. Microservice is running within the container and is not directly ran by the container.\n",
    "\n",
    "Container images bundle the applications with their runtime, libraries and dependencies, it is a source for the container.\n",
    "\n",
    "#### What is container orchestration?\n",
    "\n",
    "In a development environment it is fine to run the containers on a single host, but for quality assurance and production environments that is not a viable option anymore. One host means there is:\n",
    "- a single point of failure and no redundancy\n",
    "- scalability is limited by the constraints of the single machine\n",
    "- ?Auto-discovery to automatically discover and communicate with each other? i have no diea what this has to do with the single machine vs distirbuted\n",
    "- Accessibility from the outside world is again limited by the machines performance\n",
    "- Seamless updates/rollbacks aren't possible since there is no backup to take the place while the updates are going on, on the single machine\n",
    "\n",
    "Container orchestrators are tools which group systems together into clusters and where deployment and management is automated.\n",
    "\n",
    "Kubernets is one such container orchestrator.\n",
    "\n",
    "Container orchestrators can:\n",
    "- group hosts into clusters\n",
    "- allow communication between containers within a cluster\n",
    "- schedule runtime of containers based on resource availability\n",
    "- bind containers with storage reosurces\n",
    "- group sets of similar containers and provide an interface to simplify access to containerized applications -> a level of abstraction between conatiners and client\n",
    "- manage resource usage\n",
    "- allow implementation of policies for securing access to applications running in containers"
   ],
   "metadata": {
    "collapsed": false,
    "pycharm": {
     "name": "#%% md\n"
    }
   }
  }
 ],
 "metadata": {
  "kernelspec": {
   "display_name": "Python 3",
   "language": "python",
   "name": "python3"
  },
  "language_info": {
   "codemirror_mode": {
    "name": "ipython",
    "version": 2
   },
   "file_extension": ".py",
   "mimetype": "text/x-python",
   "name": "python",
   "nbconvert_exporter": "python",
   "pygments_lexer": "ipython2",
   "version": "2.7.6"
  }
 },
 "nbformat": 4,
 "nbformat_minor": 0
}